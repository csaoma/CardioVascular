{
 "cells": [
  {
   "cell_type": "markdown",
   "metadata": {},
   "source": [
    "# Cardiovascular Disease Data Analysis\n",
    "\n",
    "### This dataset has variables that could be contributors to cardiovascular disease.\n",
    "### The purpose of this notebook is to go through these variables and present any correlations that are found through data visualizations\n",
    "\n",
    "Data set is taken from https://www.kaggle.com/sulianova/cardiovascular-disease-dataset"
   ]
  },
  {
   "cell_type": "markdown",
   "metadata": {},
   "source": [
    "# Exploratory Data Analysis"
   ]
  },
  {
   "cell_type": "code",
   "execution_count": 144,
   "metadata": {},
   "outputs": [],
   "source": [
    "import pandas as pd\n",
    "import numpy as np\n",
    "import seaborn as sns"
   ]
  },
  {
   "cell_type": "code",
   "execution_count": 145,
   "metadata": {},
   "outputs": [],
   "source": [
    "path = 'data/cardio_train.csv'\n",
    "df = pd.read_csv(path, sep= ';')"
   ]
  },
  {
   "cell_type": "markdown",
   "metadata": {},
   "source": [
    "### Description of the different variables that will be analyzed in this notebook\n",
    "- Age is in days.\n",
    "- Gender: 1 - women, 2 - men\n",
    "- Height: cm\n",
    "- Weight: km\n",
    "- ap_hi: Systolic Blood Pressure\n",
    "- ap_lo: Diastolic Blood Pressure\n",
    "- Cholesterol: 1-normal, 2-above normal, 3-well above normal\n",
    "- Gluc: normal, 2: above normal, 3: well above normal\n",
    "- Smoke - Binary\n",
    "- Alch - Binary\n",
    "- Cardio - Binary\n",
    "*For the binary variables 0 is no and 1 is yes*\n"
   ]
  },
  {
   "cell_type": "markdown",
   "metadata": {},
   "source": [
    "# Data Inspection"
   ]
  },
  {
   "cell_type": "code",
   "execution_count": 146,
   "metadata": {},
   "outputs": [
    {
     "data": {
      "text/html": [
       "<div>\n",
       "<style scoped>\n",
       "    .dataframe tbody tr th:only-of-type {\n",
       "        vertical-align: middle;\n",
       "    }\n",
       "\n",
       "    .dataframe tbody tr th {\n",
       "        vertical-align: top;\n",
       "    }\n",
       "\n",
       "    .dataframe thead th {\n",
       "        text-align: right;\n",
       "    }\n",
       "</style>\n",
       "<table border=\"1\" class=\"dataframe\">\n",
       "  <thead>\n",
       "    <tr style=\"text-align: right;\">\n",
       "      <th></th>\n",
       "      <th>id</th>\n",
       "      <th>age</th>\n",
       "      <th>gender</th>\n",
       "      <th>height</th>\n",
       "      <th>weight</th>\n",
       "      <th>ap_hi</th>\n",
       "      <th>ap_lo</th>\n",
       "      <th>cholesterol</th>\n",
       "      <th>gluc</th>\n",
       "      <th>smoke</th>\n",
       "      <th>alco</th>\n",
       "      <th>active</th>\n",
       "      <th>cardio</th>\n",
       "    </tr>\n",
       "  </thead>\n",
       "  <tbody>\n",
       "    <tr>\n",
       "      <th>0</th>\n",
       "      <td>0</td>\n",
       "      <td>18393</td>\n",
       "      <td>2</td>\n",
       "      <td>168</td>\n",
       "      <td>62.0</td>\n",
       "      <td>110</td>\n",
       "      <td>80</td>\n",
       "      <td>1</td>\n",
       "      <td>1</td>\n",
       "      <td>0</td>\n",
       "      <td>0</td>\n",
       "      <td>1</td>\n",
       "      <td>0</td>\n",
       "    </tr>\n",
       "    <tr>\n",
       "      <th>1</th>\n",
       "      <td>1</td>\n",
       "      <td>20228</td>\n",
       "      <td>1</td>\n",
       "      <td>156</td>\n",
       "      <td>85.0</td>\n",
       "      <td>140</td>\n",
       "      <td>90</td>\n",
       "      <td>3</td>\n",
       "      <td>1</td>\n",
       "      <td>0</td>\n",
       "      <td>0</td>\n",
       "      <td>1</td>\n",
       "      <td>1</td>\n",
       "    </tr>\n",
       "    <tr>\n",
       "      <th>2</th>\n",
       "      <td>2</td>\n",
       "      <td>18857</td>\n",
       "      <td>1</td>\n",
       "      <td>165</td>\n",
       "      <td>64.0</td>\n",
       "      <td>130</td>\n",
       "      <td>70</td>\n",
       "      <td>3</td>\n",
       "      <td>1</td>\n",
       "      <td>0</td>\n",
       "      <td>0</td>\n",
       "      <td>0</td>\n",
       "      <td>1</td>\n",
       "    </tr>\n",
       "    <tr>\n",
       "      <th>3</th>\n",
       "      <td>3</td>\n",
       "      <td>17623</td>\n",
       "      <td>2</td>\n",
       "      <td>169</td>\n",
       "      <td>82.0</td>\n",
       "      <td>150</td>\n",
       "      <td>100</td>\n",
       "      <td>1</td>\n",
       "      <td>1</td>\n",
       "      <td>0</td>\n",
       "      <td>0</td>\n",
       "      <td>1</td>\n",
       "      <td>1</td>\n",
       "    </tr>\n",
       "    <tr>\n",
       "      <th>4</th>\n",
       "      <td>4</td>\n",
       "      <td>17474</td>\n",
       "      <td>1</td>\n",
       "      <td>156</td>\n",
       "      <td>56.0</td>\n",
       "      <td>100</td>\n",
       "      <td>60</td>\n",
       "      <td>1</td>\n",
       "      <td>1</td>\n",
       "      <td>0</td>\n",
       "      <td>0</td>\n",
       "      <td>0</td>\n",
       "      <td>0</td>\n",
       "    </tr>\n",
       "  </tbody>\n",
       "</table>\n",
       "</div>"
      ],
      "text/plain": [
       "   id    age  gender  height  weight  ap_hi  ap_lo  cholesterol  gluc  smoke  \\\n",
       "0   0  18393       2     168    62.0    110     80            1     1      0   \n",
       "1   1  20228       1     156    85.0    140     90            3     1      0   \n",
       "2   2  18857       1     165    64.0    130     70            3     1      0   \n",
       "3   3  17623       2     169    82.0    150    100            1     1      0   \n",
       "4   4  17474       1     156    56.0    100     60            1     1      0   \n",
       "\n",
       "   alco  active  cardio  \n",
       "0     0       1       0  \n",
       "1     0       1       1  \n",
       "2     0       0       1  \n",
       "3     0       1       1  \n",
       "4     0       0       0  "
      ]
     },
     "execution_count": 146,
     "metadata": {},
     "output_type": "execute_result"
    }
   ],
   "source": [
    "df.head()"
   ]
  },
  {
   "cell_type": "code",
   "execution_count": 147,
   "metadata": {},
   "outputs": [
    {
     "name": "stdout",
     "output_type": "stream",
     "text": [
      "<class 'pandas.core.frame.DataFrame'>\n",
      "RangeIndex: 70000 entries, 0 to 69999\n",
      "Data columns (total 13 columns):\n",
      "id             70000 non-null int64\n",
      "age            70000 non-null int64\n",
      "gender         70000 non-null int64\n",
      "height         70000 non-null int64\n",
      "weight         70000 non-null float64\n",
      "ap_hi          70000 non-null int64\n",
      "ap_lo          70000 non-null int64\n",
      "cholesterol    70000 non-null int64\n",
      "gluc           70000 non-null int64\n",
      "smoke          70000 non-null int64\n",
      "alco           70000 non-null int64\n",
      "active         70000 non-null int64\n",
      "cardio         70000 non-null int64\n",
      "dtypes: float64(1), int64(12)\n",
      "memory usage: 6.9 MB\n"
     ]
    }
   ],
   "source": [
    "df.info()"
   ]
  },
  {
   "cell_type": "code",
   "execution_count": 148,
   "metadata": {},
   "outputs": [
    {
     "data": {
      "text/plain": [
       "(70000, 13)"
      ]
     },
     "execution_count": 148,
     "metadata": {},
     "output_type": "execute_result"
    }
   ],
   "source": [
    "df.shape"
   ]
  },
  {
   "cell_type": "code",
   "execution_count": 149,
   "metadata": {},
   "outputs": [
    {
     "data": {
      "text/html": [
       "<div>\n",
       "<style scoped>\n",
       "    .dataframe tbody tr th:only-of-type {\n",
       "        vertical-align: middle;\n",
       "    }\n",
       "\n",
       "    .dataframe tbody tr th {\n",
       "        vertical-align: top;\n",
       "    }\n",
       "\n",
       "    .dataframe thead th {\n",
       "        text-align: right;\n",
       "    }\n",
       "</style>\n",
       "<table border=\"1\" class=\"dataframe\">\n",
       "  <thead>\n",
       "    <tr style=\"text-align: right;\">\n",
       "      <th></th>\n",
       "      <th>count</th>\n",
       "      <th>mean</th>\n",
       "      <th>std</th>\n",
       "      <th>min</th>\n",
       "      <th>25%</th>\n",
       "      <th>50%</th>\n",
       "      <th>75%</th>\n",
       "      <th>max</th>\n",
       "    </tr>\n",
       "  </thead>\n",
       "  <tbody>\n",
       "    <tr>\n",
       "      <th>id</th>\n",
       "      <td>70000.0</td>\n",
       "      <td>49972.419900</td>\n",
       "      <td>28851.302323</td>\n",
       "      <td>0.0</td>\n",
       "      <td>25006.75</td>\n",
       "      <td>50001.5</td>\n",
       "      <td>74889.25</td>\n",
       "      <td>99999.0</td>\n",
       "    </tr>\n",
       "    <tr>\n",
       "      <th>age</th>\n",
       "      <td>70000.0</td>\n",
       "      <td>19468.865814</td>\n",
       "      <td>2467.251667</td>\n",
       "      <td>10798.0</td>\n",
       "      <td>17664.00</td>\n",
       "      <td>19703.0</td>\n",
       "      <td>21327.00</td>\n",
       "      <td>23713.0</td>\n",
       "    </tr>\n",
       "    <tr>\n",
       "      <th>gender</th>\n",
       "      <td>70000.0</td>\n",
       "      <td>1.349571</td>\n",
       "      <td>0.476838</td>\n",
       "      <td>1.0</td>\n",
       "      <td>1.00</td>\n",
       "      <td>1.0</td>\n",
       "      <td>2.00</td>\n",
       "      <td>2.0</td>\n",
       "    </tr>\n",
       "    <tr>\n",
       "      <th>height</th>\n",
       "      <td>70000.0</td>\n",
       "      <td>164.359229</td>\n",
       "      <td>8.210126</td>\n",
       "      <td>55.0</td>\n",
       "      <td>159.00</td>\n",
       "      <td>165.0</td>\n",
       "      <td>170.00</td>\n",
       "      <td>250.0</td>\n",
       "    </tr>\n",
       "    <tr>\n",
       "      <th>weight</th>\n",
       "      <td>70000.0</td>\n",
       "      <td>74.205690</td>\n",
       "      <td>14.395757</td>\n",
       "      <td>10.0</td>\n",
       "      <td>65.00</td>\n",
       "      <td>72.0</td>\n",
       "      <td>82.00</td>\n",
       "      <td>200.0</td>\n",
       "    </tr>\n",
       "    <tr>\n",
       "      <th>ap_hi</th>\n",
       "      <td>70000.0</td>\n",
       "      <td>128.817286</td>\n",
       "      <td>154.011419</td>\n",
       "      <td>-150.0</td>\n",
       "      <td>120.00</td>\n",
       "      <td>120.0</td>\n",
       "      <td>140.00</td>\n",
       "      <td>16020.0</td>\n",
       "    </tr>\n",
       "    <tr>\n",
       "      <th>ap_lo</th>\n",
       "      <td>70000.0</td>\n",
       "      <td>96.630414</td>\n",
       "      <td>188.472530</td>\n",
       "      <td>-70.0</td>\n",
       "      <td>80.00</td>\n",
       "      <td>80.0</td>\n",
       "      <td>90.00</td>\n",
       "      <td>11000.0</td>\n",
       "    </tr>\n",
       "    <tr>\n",
       "      <th>cholesterol</th>\n",
       "      <td>70000.0</td>\n",
       "      <td>1.366871</td>\n",
       "      <td>0.680250</td>\n",
       "      <td>1.0</td>\n",
       "      <td>1.00</td>\n",
       "      <td>1.0</td>\n",
       "      <td>2.00</td>\n",
       "      <td>3.0</td>\n",
       "    </tr>\n",
       "    <tr>\n",
       "      <th>gluc</th>\n",
       "      <td>70000.0</td>\n",
       "      <td>1.226457</td>\n",
       "      <td>0.572270</td>\n",
       "      <td>1.0</td>\n",
       "      <td>1.00</td>\n",
       "      <td>1.0</td>\n",
       "      <td>1.00</td>\n",
       "      <td>3.0</td>\n",
       "    </tr>\n",
       "    <tr>\n",
       "      <th>smoke</th>\n",
       "      <td>70000.0</td>\n",
       "      <td>0.088129</td>\n",
       "      <td>0.283484</td>\n",
       "      <td>0.0</td>\n",
       "      <td>0.00</td>\n",
       "      <td>0.0</td>\n",
       "      <td>0.00</td>\n",
       "      <td>1.0</td>\n",
       "    </tr>\n",
       "    <tr>\n",
       "      <th>alco</th>\n",
       "      <td>70000.0</td>\n",
       "      <td>0.053771</td>\n",
       "      <td>0.225568</td>\n",
       "      <td>0.0</td>\n",
       "      <td>0.00</td>\n",
       "      <td>0.0</td>\n",
       "      <td>0.00</td>\n",
       "      <td>1.0</td>\n",
       "    </tr>\n",
       "    <tr>\n",
       "      <th>active</th>\n",
       "      <td>70000.0</td>\n",
       "      <td>0.803729</td>\n",
       "      <td>0.397179</td>\n",
       "      <td>0.0</td>\n",
       "      <td>1.00</td>\n",
       "      <td>1.0</td>\n",
       "      <td>1.00</td>\n",
       "      <td>1.0</td>\n",
       "    </tr>\n",
       "    <tr>\n",
       "      <th>cardio</th>\n",
       "      <td>70000.0</td>\n",
       "      <td>0.499700</td>\n",
       "      <td>0.500003</td>\n",
       "      <td>0.0</td>\n",
       "      <td>0.00</td>\n",
       "      <td>0.0</td>\n",
       "      <td>1.00</td>\n",
       "      <td>1.0</td>\n",
       "    </tr>\n",
       "  </tbody>\n",
       "</table>\n",
       "</div>"
      ],
      "text/plain": [
       "               count          mean           std      min       25%      50%  \\\n",
       "id           70000.0  49972.419900  28851.302323      0.0  25006.75  50001.5   \n",
       "age          70000.0  19468.865814   2467.251667  10798.0  17664.00  19703.0   \n",
       "gender       70000.0      1.349571      0.476838      1.0      1.00      1.0   \n",
       "height       70000.0    164.359229      8.210126     55.0    159.00    165.0   \n",
       "weight       70000.0     74.205690     14.395757     10.0     65.00     72.0   \n",
       "ap_hi        70000.0    128.817286    154.011419   -150.0    120.00    120.0   \n",
       "ap_lo        70000.0     96.630414    188.472530    -70.0     80.00     80.0   \n",
       "cholesterol  70000.0      1.366871      0.680250      1.0      1.00      1.0   \n",
       "gluc         70000.0      1.226457      0.572270      1.0      1.00      1.0   \n",
       "smoke        70000.0      0.088129      0.283484      0.0      0.00      0.0   \n",
       "alco         70000.0      0.053771      0.225568      0.0      0.00      0.0   \n",
       "active       70000.0      0.803729      0.397179      0.0      1.00      1.0   \n",
       "cardio       70000.0      0.499700      0.500003      0.0      0.00      0.0   \n",
       "\n",
       "                  75%      max  \n",
       "id           74889.25  99999.0  \n",
       "age          21327.00  23713.0  \n",
       "gender           2.00      2.0  \n",
       "height         170.00    250.0  \n",
       "weight          82.00    200.0  \n",
       "ap_hi          140.00  16020.0  \n",
       "ap_lo           90.00  11000.0  \n",
       "cholesterol      2.00      3.0  \n",
       "gluc             1.00      3.0  \n",
       "smoke            0.00      1.0  \n",
       "alco             0.00      1.0  \n",
       "active           1.00      1.0  \n",
       "cardio           1.00      1.0  "
      ]
     },
     "execution_count": 149,
     "metadata": {},
     "output_type": "execute_result"
    }
   ],
   "source": [
    "df.describe().T"
   ]
  },
  {
   "cell_type": "code",
   "execution_count": 150,
   "metadata": {},
   "outputs": [
    {
     "data": {
      "text/plain": [
       "False"
      ]
     },
     "execution_count": 150,
     "metadata": {},
     "output_type": "execute_result"
    }
   ],
   "source": [
    "#Check to see if there are any NA Values\n",
    "df.isna().values.any()"
   ]
  },
  {
   "cell_type": "code",
   "execution_count": 151,
   "metadata": {},
   "outputs": [
    {
     "data": {
      "text/plain": [
       "False"
      ]
     },
     "execution_count": 151,
     "metadata": {},
     "output_type": "execute_result"
    }
   ],
   "source": [
    "#Are there any duplicated values\n",
    "\n",
    "df.duplicated().any()"
   ]
  },
  {
   "cell_type": "code",
   "execution_count": 152,
   "metadata": {},
   "outputs": [
    {
     "data": {
      "text/plain": [
       "1007"
      ]
     },
     "execution_count": 152,
     "metadata": {},
     "output_type": "execute_result"
    }
   ],
   "source": [
    "#How many unactive smokers are there in the dataset?\n",
    "unactive_smokers = df.loc[(df.active == 0) & \n",
    "                                  (df.smoke == 1)]\n",
    "len(unactive_smokers)"
   ]
  },
  {
   "cell_type": "code",
   "execution_count": 165,
   "metadata": {},
   "outputs": [
    {
     "data": {
      "text/plain": [
       "8.373595585922983"
      ]
     },
     "execution_count": 165,
     "metadata": {},
     "output_type": "execute_result"
    }
   ],
   "source": [
    "#What percent of CV patients are smokers in this data set\n",
    "\n",
    "CV_pts = df.loc[(df.cardio == 1)]\n",
    "smoke_cv_pts = CV_pts.loc[(CV_pts.smoke == 1)]\n",
    "\n",
    "len(smoke_cv_pts) / len(df.loc[(df.cardio == 1)]) * 100"
   ]
  },
  {
   "cell_type": "code",
   "execution_count": 154,
   "metadata": {},
   "outputs": [
    {
     "name": "stdout",
     "output_type": "stream",
     "text": [
      "91.62640441407703 % of patients with Cardiovascular disease are unactive and 8.373595585922983 % of patients with cardiovascular disease are active\n"
     ]
    }
   ],
   "source": [
    "# What percent of CV patients are unactive v unactive\n",
    "active_pt = CV_pts.loc[(CV_pts.smoke == 1)]\n",
    "unactive_pt = CV_pts.loc[(CV_pts.smoke == 0)]\n",
    "\n",
    "unactive_pct = len(unactive_pt) / len(CV_pts) * 100\n",
    "active_pvt = len(active_pt) / len(CV_pts) * 100\n",
    "\n",
    "print(f'{unactive_pct} % of patients with Cardiovascular disease are unactive and {active_pvt} % of patients with cardiovascular disease are active')"
   ]
  },
  {
   "cell_type": "code",
   "execution_count": 155,
   "metadata": {},
   "outputs": [
    {
     "name": "stdout",
     "output_type": "stream",
     "text": [
      "55.41211519364448% of patients with Cardiovascular diseasea are both unactive and smokers.\n"
     ]
    }
   ],
   "source": [
    "#What percent of unactive smokers have cardio disease?\n",
    "\n",
    "pct = len(unactive_smokers.loc[(df.cardio == 1)]) / len(unactive_smokers) * 100\n",
    "\n",
    "print(f'{pct}% of patients with Cardiovascular diseasea are both unactive and smokers.')"
   ]
  },
  {
   "cell_type": "markdown",
   "metadata": {},
   "source": [
    "## What is the breakdown of CV pts compared to patients without CV disease?"
   ]
  },
  {
   "cell_type": "markdown",
   "metadata": {},
   "source": [
    "In cardiovascular patients:\n",
    " - the mean systolic BP is 137\n",
    " - mean diastolic BP is 109\n",
    " - mean cholesterol is at 1.52(where 1 is normal cholesterol levels)"
   ]
  },
  {
   "cell_type": "code",
   "execution_count": 156,
   "metadata": {},
   "outputs": [
    {
     "data": {
      "text/plain": [
       "id             50082.102233\n",
       "age            20056.813031\n",
       "gender             1.353441\n",
       "height           164.270334\n",
       "weight            76.822368\n",
       "ap_hi            137.212042\n",
       "ap_lo            109.023929\n",
       "cholesterol        1.517396\n",
       "gluc               1.277595\n",
       "smoke              0.083736\n",
       "alco               0.052117\n",
       "active             0.789559\n",
       "cardio             1.000000\n",
       "dtype: float64"
      ]
     },
     "execution_count": 156,
     "metadata": {},
     "output_type": "execute_result"
    }
   ],
   "source": [
    "CV_pts.mean()"
   ]
  },
  {
   "cell_type": "markdown",
   "metadata": {},
   "source": [
    "For patients without cardiovascular disease:\n",
    "- mean systolic BP is 120.43\n",
    "- mean diastolic BP is 80.0\n",
    "- mean cholesterol is at 1.0 (where 1 is normal cholesterol)"
   ]
  },
  {
   "cell_type": "code",
   "execution_count": 164,
   "metadata": {},
   "outputs": [
    {
     "data": {
      "text/plain": [
       "id             49862.869107\n",
       "age            18881.623711\n",
       "gender             1.345707\n",
       "height           164.448017\n",
       "weight            71.592150\n",
       "ap_hi            120.432598\n",
       "ap_lo             84.251763\n",
       "cholesterol        1.216527\n",
       "gluc               1.175380\n",
       "smoke              0.092516\n",
       "alco               0.055424\n",
       "active             0.817881\n",
       "cardio             0.000000\n",
       "dtype: float64"
      ]
     },
     "execution_count": 164,
     "metadata": {},
     "output_type": "execute_result"
    }
   ],
   "source": [
    "no_CV_pts = df.loc[(df.cardio == 0)]\n",
    "no_CV_pts.mean()"
   ]
  },
  {
   "cell_type": "code",
   "execution_count": 168,
   "metadata": {},
   "outputs": [
    {
     "data": {
      "text/plain": [
       "9.251591902001657"
      ]
     },
     "execution_count": 168,
     "metadata": {},
     "output_type": "execute_result"
    }
   ],
   "source": [
    "# What percentage of smokers are in \n",
    "\n",
    "len(no_CV_pts.loc[(no_CV_pts.smoke == 1)]) / len(no_CV_pts) * 100"
   ]
  },
  {
   "cell_type": "markdown",
   "metadata": {},
   "source": [
    "# Major Takeways\n",
    "1. On average patients with cardiovascular disease have higher systolic/diastolic blood pressure then patients without CV disease.\n",
    "2. On average patients with cardiovascular disease higher levels of cholesterol and glucose then patients without CV"
   ]
  },
  {
   "cell_type": "markdown",
   "metadata": {},
   "source": [
    "# Interesting findings\n",
    "1. In this dataset there 8.3 % of CV patients were marked as smokers while 9.3 % of patients without CV disease were marked as smokers. \n",
    "2. Although this is an interesting finding, it is important to note that patients were labeled as either smokers or nonsmokers and frequency of smoking is not taken into account in this dataset."
   ]
  },
  {
   "cell_type": "code",
   "execution_count": null,
   "metadata": {},
   "outputs": [],
   "source": []
  }
 ],
 "metadata": {
  "kernelspec": {
   "display_name": "Python 3",
   "language": "python",
   "name": "python3"
  },
  "language_info": {
   "codemirror_mode": {
    "name": "ipython",
    "version": 3
   },
   "file_extension": ".py",
   "mimetype": "text/x-python",
   "name": "python",
   "nbconvert_exporter": "python",
   "pygments_lexer": "ipython3",
   "version": "3.8.2"
  }
 },
 "nbformat": 4,
 "nbformat_minor": 4
}
